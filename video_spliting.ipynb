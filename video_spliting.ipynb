{
 "cells": [
  {
   "cell_type": "code",
   "execution_count": 1,
   "id": "14acdcd5-e0b9-4b31-a8c9-2817b4e8a82b",
   "metadata": {},
   "outputs": [],
   "source": [
    "import cv2"
   ]
  },
  {
   "cell_type": "code",
   "execution_count": 15,
   "id": "2c873628-74a2-47f8-8c5d-0bfa313a4881",
   "metadata": {},
   "outputs": [],
   "source": [
    "capture = cv2.VideoCapture('input_video/cow-video-cows-mooing-and-grazing-in-a-field.mp4')\n",
    " \n",
    "frameNr = 0\n",
    " \n",
    "while (True):\n",
    " \n",
    "    success, frame = capture.read()\n",
    " \n",
    "    if success:\n",
    "        if frameNr%10 == 0:\n",
    "            cv2.imwrite(f'output_frames/frame_{frameNr}.jpg', frame, [cv2.IMWRITE_JPEG_QUALITY, 100])\n",
    "    else:\n",
    "        break\n",
    "    frameNr = frameNr+1 \n",
    "capture.release()"
   ]
  },
  {
   "cell_type": "code",
   "execution_count": null,
   "id": "b2f8c5c7-fc12-40f4-9ce9-de93bf47ea34",
   "metadata": {},
   "outputs": [],
   "source": []
  }
 ],
 "metadata": {
  "kernelspec": {
   "display_name": "Python 3 (ipykernel)",
   "language": "python",
   "name": "python3"
  },
  "language_info": {
   "codemirror_mode": {
    "name": "ipython",
    "version": 3
   },
   "file_extension": ".py",
   "mimetype": "text/x-python",
   "name": "python",
   "nbconvert_exporter": "python",
   "pygments_lexer": "ipython3",
   "version": "3.8.12"
  }
 },
 "nbformat": 4,
 "nbformat_minor": 5
}
